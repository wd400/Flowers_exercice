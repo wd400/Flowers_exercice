{
 "cells": [
  {
   "cell_type": "code",
   "execution_count": 1,
   "metadata": {},
   "outputs": [],
   "source": [
    "import numpy as np\n",
    "np.random.seed(1)"
   ]
  },
  {
   "cell_type": "code",
   "execution_count": 2,
   "metadata": {},
   "outputs": [],
   "source": [
    "m = 7\n",
    "b = 3\n",
    "\n",
    "x_values = np.random.uniform(1, 10, 200)\n",
    "\n",
    "\n",
    "y_values = m * x_values + b + np.random.normal(0, 5, 200)\n",
    "\n",
    "data = {\"_default\": {}}\n",
    "for i, (x, y) in enumerate(zip(x_values, y_values), start=1):\n",
    "    data[\"_default\"][str(i)] = {\"x\": round(x, 2), \"y\": round(y, 2)}\n"
   ]
  },
  {
   "cell_type": "code",
   "execution_count": 3,
   "metadata": {},
   "outputs": [],
   "source": [
    "import json\n",
    "with open('app/test_db.json', 'w') as outfile:\n",
    "    json.dump(data, outfile)"
   ]
  }
 ],
 "metadata": {
  "kernelspec": {
   "display_name": "urbex",
   "language": "python",
   "name": "python3"
  },
  "language_info": {
   "codemirror_mode": {
    "name": "ipython",
    "version": 3
   },
   "file_extension": ".py",
   "mimetype": "text/x-python",
   "name": "python",
   "nbconvert_exporter": "python",
   "pygments_lexer": "ipython3",
   "version": "3.8.16"
  }
 },
 "nbformat": 4,
 "nbformat_minor": 2
}
